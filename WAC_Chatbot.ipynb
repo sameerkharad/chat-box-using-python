{
  "nbformat": 4,
  "nbformat_minor": 0,
  "metadata": {
    "colab": {
      "name": "WAC_Chatbot.ipynb",
      "provenance": [],
      "collapsed_sections": [],
      "toc_visible": true,
      "authorship_tag": "ABX9TyNVbJtCmAwiDOuIM341DnBH",
      "include_colab_link": true
    },
    "kernelspec": {
      "name": "python3",
      "display_name": "Python 3"
    }
  },
  "cells": [
    {
      "cell_type": "markdown",
      "metadata": {
        "id": "view-in-github",
        "colab_type": "text"
      },
      "source": [
        "<a href=\"https://colab.research.google.com/github/bandenawaz/machine-learning/blob/main/WAC_Chatbot.ipynb\" target=\"_parent\"><img src=\"https://colab.research.google.com/assets/colab-badge.svg\" alt=\"Open In Colab\"/></a>"
      ]
    },
    {
      "cell_type": "code",
      "metadata": {
        "id": "lVyMfy2Jfq4I",
        "colab": {
          "base_uri": "https://localhost:8080/"
        },
        "outputId": "cd8eda64-2d61-4e10-e498-3aad44c73d09"
      },
      "source": [
        "!pip install nltk"
      ],
      "execution_count": null,
      "outputs": [
        {
          "output_type": "stream",
          "text": [
            "Requirement already satisfied: nltk in /usr/local/lib/python3.6/dist-packages (3.2.5)\n",
            "Requirement already satisfied: six in /usr/local/lib/python3.6/dist-packages (from nltk) (1.15.0)\n"
          ],
          "name": "stdout"
        }
      ]
    },
    {
      "cell_type": "code",
      "metadata": {
        "id": "7f43y539jp-o"
      },
      "source": [
        "#import the libraries\n",
        "from nltk.chat.util import Chat, reflections\n"
      ],
      "execution_count": null,
      "outputs": []
    },
    {
      "cell_type": "code",
      "metadata": {
        "id": "OsVxmjxQkTRP",
        "colab": {
          "base_uri": "https://localhost:8080/"
        },
        "outputId": "358a108c-5f2b-4cce-b39f-f16d46e38a8d"
      },
      "source": [
        "pairs = [\n",
        "[\n",
        "r\"my name is (.*)\",\n",
        "[\"Hello %1, How are you today ?\",]\n",
        "],\n",
        "[\n",
        "r\"what is your name ?\",\n",
        "[\"My name is Chatty and I'm a chatbot ?\",]\n",
        "],\n",
        "[\n",
        "r\"how are you ?\",\n",
        "[\"I'm doing good\\nHow about You ?\",]\n",
        "],\n",
        "[\n",
        "r\"sorry (.*)\",\n",
        "[\"Its alright\",\"Its OK, never mind\",]\n",
        "],\n",
        "[\n",
        "r\"i'm (.*) doing good\",\n",
        "[\"Nice to hear that\",\"Alright :)\",]\n",
        "],\n",
        "[\n",
        "r\"hi|hey|hello\",\n",
        "[\"Hello\", \"Hey there\",]\n",
        "],\n",
        "[\n",
        "r\"(.*) age?\",\n",
        "[\"I'm a computer program dude\\nSeriously you are asking me this?\",]\n",
        "],\n",
        "[\n",
        "r\"what (.*) want ?\",\n",
        "[\"Make me an offer I can't refuse\",]\n",
        "],\n",
        "[\n",
        "r\"(.*) created ?\",\n",
        "[\"Nawaz created me using Python's NLTK library \",\"top secret ;)\",]\n",
        "],\n",
        "[\n",
        "r\"(.*) (location|city) ?\",\n",
        "['Chennai, Tamil Nadu',]\n",
        "],\n",
        "[\n",
        "r\"how is weather in (.*)?\",\n",
        "[\"Weather in %1 is awesome like always\",\"Too hot man here in %1\",\n",
        "\"Too cold man here in %1\",\"Never even heard about %1\"]\n",
        "],\n",
        "[\n",
        "r\"i work in (.*)?\",\n",
        "[\"%1 is an Amazing company, I have heard about it. \",]\n",
        "],\n",
        "[\n",
        "r\"(.*)raining in (.*)\",\n",
        "[\"No rain since last week here in %2\",]\n",
        "],\n",
        " [\n",
        "r\"who (.*) sportsperson ?\",\n",
        "[\"Messy\",\"Ronaldo\",\"Roony\"]\n",
        "],\n",
        "[\n",
        "r\"who (.*) (moviestar|actor)?\",\n",
        "[\"Brad Pitt\"]\n",
        "],\n",
        "[\n",
        "r\"quit\",\n",
        "  [\"Bye take care. See you soon :) \",\"It was nice talking to you. See you soon\"]\n",
        "  ],\n",
        "]\n",
        "\n",
        "\n",
        "def chatty():\n",
        "  print(\"Hi, i am chatty! \\n Please type lowercase english to start conversation. Type quit to leave\")\n",
        "  chat = Chat(pairs, reflections)\n",
        "  chat.converse()\n",
        "\n",
        "if __name__ == \"__main__\":\n",
        "  chatty()"
      ],
      "execution_count": null,
      "outputs": [
        {
          "output_type": "stream",
          "text": [
            "Hi, i am chatty! \n",
            " Please type lowercase english to start conversation. Type quit to leave\n",
            ">what is your name?\n",
            "My name is Chatty and I'm a chatbot ?\n",
            ">how are you?\n",
            "I'm doing good\n",
            "How about You ?\n",
            ">not good\n",
            "None\n",
            ">i'm doing good\n",
            "None\n",
            ">what is your age?\n",
            "I'm a computer program dude\n",
            "Seriously you are asking me this?\n",
            ">who created you?\n",
            "Nawaz created me using Python's NLTK library \n",
            ">what you want?\n",
            "Make me an offer I can't refuse\n",
            ">what is your location?\n",
            "Chennai, Tamil Nadu\n",
            ">is it raining in chennai?\n",
            "No rain since last week here in chennai?\n",
            ">how is weather in chennai?\n",
            "Weather in chennai? is awesome like always\n",
            ">who is your favourite sportsperson?\n",
            "Roony\n",
            ">i work in Illuminate Skills\n",
            "illuminate skills is an Amazing company, I have heard about it. \n",
            ">Thank you\n",
            "None\n",
            ">quit\n",
            "Bye take care. See you soon :) \n"
          ],
          "name": "stdout"
        }
      ]
    },
    {
      "cell_type": "code",
      "metadata": {
        "id": "y7mw73_lsE3-"
      },
      "source": [
        ""
      ],
      "execution_count": null,
      "outputs": []
    },
    {
      "cell_type": "code",
      "metadata": {
        "id": "shRtpjTwrpk3"
      },
      "source": [
        ""
      ],
      "execution_count": null,
      "outputs": []
    },
    {
      "cell_type": "code",
      "metadata": {
        "id": "Cd3I-HXIrPyT"
      },
      "source": [
        ""
      ],
      "execution_count": null,
      "outputs": []
    },
    {
      "cell_type": "code",
      "metadata": {
        "id": "m9i9o97irIfB"
      },
      "source": [
        ""
      ],
      "execution_count": null,
      "outputs": []
    },
    {
      "cell_type": "code",
      "metadata": {
        "id": "F6LI7J1cq8bH"
      },
      "source": [
        ""
      ],
      "execution_count": null,
      "outputs": []
    },
    {
      "cell_type": "code",
      "metadata": {
        "id": "kMbbSma3qxwa"
      },
      "source": [
        ""
      ],
      "execution_count": null,
      "outputs": []
    },
    {
      "cell_type": "code",
      "metadata": {
        "id": "3KdCCLHHqrxT"
      },
      "source": [
        ""
      ],
      "execution_count": null,
      "outputs": []
    },
    {
      "cell_type": "code",
      "metadata": {
        "id": "D9AiJS-JpD6Y"
      },
      "source": [
        ""
      ],
      "execution_count": null,
      "outputs": []
    }
  ]
}